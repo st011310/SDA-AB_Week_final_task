{
 "cells": [
  {
   "cell_type": "markdown",
   "metadata": {},
   "source": [
    "# Q. Линеаризация второго типа"
   ]
  },
  {
   "cell_type": "markdown",
   "metadata": {},
   "source": [
    "На тех же данных теперь проверим гипотезу равенства среднего чека с использованием линеаризации второго типа и классический t-test:"
   ]
  },
  {
   "cell_type": "markdown",
   "metadata": {},
   "source": [
    "Перейдем к линеаризованной метрике \n",
    "$\n",
    "L(u)=\\frac{\\bar X}{\\bar Y}+\\frac{1}{\\bar Y}X(u)-\\frac{\\bar X}{\\bar Y^2}Y(u)\n",
    "$\n",
    ", где\n",
    "\n",
    "$X(u)$ - значение числителя для пользователя $u$"
   ]
  },
  {
   "cell_type": "markdown",
   "metadata": {},
   "source": [
    "$Y(u)$ - значение знаменателя для пользователя $u$"
   ]
  },
  {
   "cell_type": "markdown",
   "metadata": {},
   "source": [
    "$\\bar X$ - среднее в группе по числителю"
   ]
  },
  {
   "cell_type": "markdown",
   "metadata": {},
   "source": [
    "$\\bar Y$ - среднее в группе по знаменателю\n",
    "\n"
   ]
  },
  {
   "cell_type": "markdown",
   "metadata": {},
   "source": [
    "Посчитайте T-статистику, найдите P-value для линеаризованной метрики.\n",
    "\n"
   ]
  },
  {
   "cell_type": "markdown",
   "metadata": {},
   "source": [
    "Используйте данные из файла [synthetic_gmv_data_1.2.csv](https://github.com/dakhakimova/YSDA_ABweek/blob/476cbc4a49e1f4dfcdb376d69239b6103fbad932/synthetic_gmv_data_1.2.csv)"
   ]
  },
  {
   "cell_type": "markdown",
   "metadata": {},
   "source": [
    "## Формат вывода\n"
   ]
  },
  {
   "cell_type": "markdown",
   "metadata": {},
   "source": [
    "В ответе выведите два числа через пробел.\n",
    "Целую и дробную часть разделяйте точкой."
   ]
  },
  {
   "cell_type": "markdown",
   "metadata": {},
   "source": [
    "## Примечание"
   ]
  },
  {
   "cell_type": "markdown",
   "metadata": {},
   "source": [
    "Округлите до 3-го знака после точки."
   ]
  },
  {
   "cell_type": "markdown",
   "metadata": {},
   "source": [
    "# Решение"
   ]
  },
  {
   "cell_type": "code",
   "execution_count": 1,
   "metadata": {},
   "outputs": [],
   "source": [
    "import pandas as pd\n",
    "import scipy.stats as stats\n",
    "import numpy as np"
   ]
  },
  {
   "cell_type": "code",
   "execution_count": 2,
   "metadata": {},
   "outputs": [],
   "source": [
    "url =                \"https://github.com/dakhakimova/YSDA_ABweek/blob/476cbc4a49e1f4dfcdb376d69239b6103fbad932/synthetic_gmv_data_1.2.csv\"\n",
    "url = \"https://raw.githubusercontent.com/dakhakimova/YSDA_ABweek/\" + \"476cbc4a49e1f4dfcdb376d69239b6103fbad932/synthetic_gmv_data_1.2.csv\"\n",
    "df = pd.read_csv(url)"
   ]
  },
  {
   "cell_type": "code",
   "execution_count": 3,
   "metadata": {},
   "outputs": [
    {
     "data": {
      "text/html": [
       "<div>\n",
       "<style scoped>\n",
       "    .dataframe tbody tr th:only-of-type {\n",
       "        vertical-align: middle;\n",
       "    }\n",
       "\n",
       "    .dataframe tbody tr th {\n",
       "        vertical-align: top;\n",
       "    }\n",
       "\n",
       "    .dataframe thead th {\n",
       "        text-align: right;\n",
       "    }\n",
       "</style>\n",
       "<table border=\"1\" class=\"dataframe\">\n",
       "  <thead>\n",
       "    <tr style=\"text-align: right;\">\n",
       "      <th></th>\n",
       "      <th>user_id</th>\n",
       "      <th>gmv</th>\n",
       "      <th>group_name</th>\n",
       "    </tr>\n",
       "  </thead>\n",
       "  <tbody>\n",
       "    <tr>\n",
       "      <th>0</th>\n",
       "      <td>myo4ixol31</td>\n",
       "      <td>1428</td>\n",
       "      <td>test</td>\n",
       "    </tr>\n",
       "    <tr>\n",
       "      <th>1</th>\n",
       "      <td>myo4ixol31</td>\n",
       "      <td>1428</td>\n",
       "      <td>test</td>\n",
       "    </tr>\n",
       "    <tr>\n",
       "      <th>2</th>\n",
       "      <td>myo4ixol31</td>\n",
       "      <td>1071</td>\n",
       "      <td>test</td>\n",
       "    </tr>\n",
       "    <tr>\n",
       "      <th>3</th>\n",
       "      <td>myo4ixol31</td>\n",
       "      <td>1071</td>\n",
       "      <td>test</td>\n",
       "    </tr>\n",
       "    <tr>\n",
       "      <th>4</th>\n",
       "      <td>pkzf2889ww</td>\n",
       "      <td>351</td>\n",
       "      <td>test</td>\n",
       "    </tr>\n",
       "  </tbody>\n",
       "</table>\n",
       "</div>"
      ],
      "text/plain": [
       "      user_id   gmv group_name\n",
       "0  myo4ixol31  1428       test\n",
       "1  myo4ixol31  1428       test\n",
       "2  myo4ixol31  1071       test\n",
       "3  myo4ixol31  1071       test\n",
       "4  pkzf2889ww   351       test"
      ]
     },
     "execution_count": 3,
     "metadata": {},
     "output_type": "execute_result"
    }
   ],
   "source": [
    "df.head()"
   ]
  },
  {
   "cell_type": "markdown",
   "metadata": {},
   "source": [
    "\n",
    "$L(u) = \\dfrac{\\bar X}{\\bar Y} + \\dfrac{1}{\\bar Y} X(u) - \\dfrac{\\bar X}{\\bar Y^2} Y(u)$"
   ]
  },
  {
   "cell_type": "code",
   "execution_count": 111,
   "metadata": {},
   "outputs": [],
   "source": [
    "def safe_divide(x, y):\n",
    "    try:\n",
    "        return x / y\n",
    "    except ZeroDivisionError:\n",
    "        return np.nan\n",
    "\n",
    "def linearization_type_2(X, Y):\n",
    "    n = len(X)\n",
    "    X_bar = np.mean(np.array(X))\n",
    "    Y_bar = np.mean(Y)\n",
    "    estimator = X_bar / Y_bar\n",
    "    linear = estimator  + (X - estimator*Y) / Y_bar\n",
    "    return linear\n",
    "\n",
    "def linearization_type_2_ttest(x_test, y_test, x_control, y_control):\n",
    "    linear_test = linearization_type_2(x_test, y_test)\n",
    "    linear_control = linearization_type_2(x_control, y_control)\n",
    "    t_stat, p_value = stats.ttest_ind(linear_test, linear_control, equal_var=False)\n",
    "    return t_stat, p_value"
   ]
  },
  {
   "cell_type": "code",
   "execution_count": 112,
   "metadata": {},
   "outputs": [],
   "source": [
    "test = df[df['group_name'] == 'test']\n",
    "control = df[df['group_name'] == 'control']"
   ]
  },
  {
   "cell_type": "code",
   "execution_count": 113,
   "metadata": {},
   "outputs": [],
   "source": [
    "X_test = test.groupby('user_id')['gmv'].sum()\n",
    "X_control = control.groupby('user_id')['gmv'].sum()"
   ]
  },
  {
   "cell_type": "code",
   "execution_count": 114,
   "metadata": {},
   "outputs": [
    {
     "data": {
      "text/plain": [
       "user_id\n",
       "00074uxybk    3187\n",
       "000plmykri    1695\n",
       "0026yqk83k    1293\n",
       "002ioy63br    3862\n",
       "0032wrbd7c     765\n",
       "              ... \n",
       "zzv633k6jk    3809\n",
       "zzvup22tly    3938\n",
       "zzx7apehbt    3422\n",
       "zzxoenzox7    1141\n",
       "zzyggo4hgm    1923\n",
       "Name: gmv, Length: 49100, dtype: int64"
      ]
     },
     "execution_count": 114,
     "metadata": {},
     "output_type": "execute_result"
    }
   ],
   "source": [
    "X_test"
   ]
  },
  {
   "cell_type": "code",
   "execution_count": 115,
   "metadata": {},
   "outputs": [],
   "source": [
    "Y_test = test['user_id'].value_counts()\n",
    "Y_control = control['user_id'].value_counts()"
   ]
  },
  {
   "cell_type": "code",
   "execution_count": 116,
   "metadata": {},
   "outputs": [
    {
     "data": {
      "text/plain": [
       "(user_id\n",
       " 00074uxybk    1062.333333\n",
       " 000plmykri     339.000000\n",
       " 0026yqk83k     431.000000\n",
       " 002ioy63br     643.666667\n",
       " 0032wrbd7c     255.000000\n",
       "                  ...     \n",
       " zzv633k6jk     544.142857\n",
       " zzvup22tly    1312.666667\n",
       " zzx7apehbt     855.500000\n",
       " zzxoenzox7     570.500000\n",
       " zzyggo4hgm     480.750000\n",
       " Length: 49100, dtype: float64,\n",
       " user_id\n",
       " jfe78xzcq2    15\n",
       " xqoheyv3i6    14\n",
       " lv6kok1ro4    14\n",
       " cvhmnm1kv1    14\n",
       " uhvljh9dfu    14\n",
       "               ..\n",
       " bzanvkv0ln     1\n",
       " tm96jxoe4y     1\n",
       " lgjn3t95cs     1\n",
       " wrf3q02xqx     1\n",
       " fr43epiief     1\n",
       " Name: count, Length: 49100, dtype: int64)"
      ]
     },
     "execution_count": 116,
     "metadata": {},
     "output_type": "execute_result"
    }
   ],
   "source": [
    "X_test/Y_test, Y_test"
   ]
  },
  {
   "cell_type": "code",
   "execution_count": 117,
   "metadata": {},
   "outputs": [
    {
     "data": {
      "text/plain": [
       "(2.343871855041241, 0.019087054199213773)"
      ]
     },
     "execution_count": 117,
     "metadata": {},
     "output_type": "execute_result"
    }
   ],
   "source": [
    "value, pvalue = linearization_type_2_ttest(X_test, Y_test, X_control, Y_control)\n",
    "value, pvalue"
   ]
  },
  {
   "cell_type": "code",
   "execution_count": 118,
   "metadata": {},
   "outputs": [
    {
     "data": {
      "text/plain": [
       "(2.344, 0.019)"
      ]
     },
     "execution_count": 118,
     "metadata": {},
     "output_type": "execute_result"
    }
   ],
   "source": [
    "round(value,3), round(pvalue,3)"
   ]
  },
  {
   "cell_type": "markdown",
   "metadata": {},
   "source": [
    "Ответ: `2.344 0.019`"
   ]
  }
 ],
 "metadata": {
  "kaggle": {
   "accelerator": "none",
   "dataSources": [
    {
     "databundleVersionId": 8997613,
     "sourceId": 82398,
     "sourceType": "competition"
    }
   ],
   "dockerImageVersionId": 30761,
   "isGpuEnabled": false,
   "isInternetEnabled": false,
   "language": "python",
   "sourceType": "notebook"
  },
  "kernelspec": {
   "display_name": "Python 3",
   "language": "python",
   "name": "python3"
  },
  "language_info": {
   "codemirror_mode": {
    "name": "ipython",
    "version": 3
   },
   "file_extension": ".py",
   "mimetype": "text/x-python",
   "name": "python",
   "nbconvert_exporter": "python",
   "pygments_lexer": "ipython3",
   "version": "3.12.10"
  }
 },
 "nbformat": 4,
 "nbformat_minor": 4
}
