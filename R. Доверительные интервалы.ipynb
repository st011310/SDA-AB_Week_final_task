{
 "cells": [
  {
   "cell_type": "markdown",
   "metadata": {},
   "source": [
    "# R. Доверительные интервалы"
   ]
  },
  {
   "cell_type": "markdown",
   "metadata": {},
   "source": [
    "На тех же данных постройте доверительные интервалы для:\n",
    "\n",
    "Δ gmv - разницы средних gmv\n",
    "\n",
    "Δ gmv, % - процентного изменения средних gmv\n",
    "\n",
    "Δ aov - разницы средних чеков\n",
    "\n",
    "Δ aov, % - процентного изменения средних чеков"
   ]
  },
  {
   "cell_type": "markdown",
   "metadata": {},
   "source": [
    "Используйте данные из файла [synthetic_gmv_data_1.2.csv](https://github.com/dakhakimova/YSDA_ABweek/blob/476cbc4a49e1f4dfcdb376d69239b6103fbad932/synthetic_gmv_data_1.2.csv)"
   ]
  },
  {
   "cell_type": "markdown",
   "metadata": {},
   "source": [
    "## Формат вывода\n"
   ]
  },
  {
   "cell_type": "markdown",
   "metadata": {},
   "source": [
    "В ответе выведите 4 замкнутых интервала через пробел.\n",
    "Целую и дробную часть чисел разделяйте точкой.\n",
    "\n"
   ]
  },
  {
   "cell_type": "markdown",
   "metadata": {},
   "source": [
    "Пример ответа:\n",
    "\n",
    "[0.239, 0.179] [1.332, 2.007] [2.019, 2.025] [0.808, 2.004]\n"
   ]
  },
  {
   "cell_type": "markdown",
   "metadata": {},
   "source": [
    "## Примечание"
   ]
  },
  {
   "cell_type": "markdown",
   "metadata": {},
   "source": [
    "Округлите до 3-го знака после точки."
   ]
  },
  {
   "cell_type": "markdown",
   "metadata": {},
   "source": [
    "Везде используте распределение Стьюдента (вместо нормального), для степеней свободы используйте упрощенную формулу: \n",
    "n+m−2 (количество уников теста + количество уников контроля - 2)."
   ]
  },
  {
   "cell_type": "markdown",
   "metadata": {},
   "source": [
    "# Решение"
   ]
  },
  {
   "cell_type": "code",
   "execution_count": 96,
   "metadata": {},
   "outputs": [],
   "source": [
    "import pandas as pd\n",
    "import scipy.stats as stats\n",
    "import numpy as np"
   ]
  },
  {
   "cell_type": "code",
   "execution_count": 97,
   "metadata": {},
   "outputs": [],
   "source": [
    "def safe_divide(x, y):\n",
    "    try:\n",
    "        return x / y\n",
    "    except ZeroDivisionError:\n",
    "        return np.nan"
   ]
  },
  {
   "cell_type": "code",
   "execution_count": 98,
   "metadata": {},
   "outputs": [],
   "source": [
    "url =                \"https://github.com/dakhakimova/YSDA_ABweek/blob/476cbc4a49e1f4dfcdb376d69239b6103fbad932/synthetic_gmv_data_1.2.csv\"\n",
    "url = \"https://raw.githubusercontent.com/dakhakimova/YSDA_ABweek/\" + \"476cbc4a49e1f4dfcdb376d69239b6103fbad932/synthetic_gmv_data_1.2.csv\"\n",
    "df = pd.read_csv(url)"
   ]
  },
  {
   "cell_type": "code",
   "execution_count": 99,
   "metadata": {},
   "outputs": [
    {
     "data": {
      "text/html": [
       "<div>\n",
       "<style scoped>\n",
       "    .dataframe tbody tr th:only-of-type {\n",
       "        vertical-align: middle;\n",
       "    }\n",
       "\n",
       "    .dataframe tbody tr th {\n",
       "        vertical-align: top;\n",
       "    }\n",
       "\n",
       "    .dataframe thead th {\n",
       "        text-align: right;\n",
       "    }\n",
       "</style>\n",
       "<table border=\"1\" class=\"dataframe\">\n",
       "  <thead>\n",
       "    <tr style=\"text-align: right;\">\n",
       "      <th></th>\n",
       "      <th>user_id</th>\n",
       "      <th>gmv</th>\n",
       "      <th>group_name</th>\n",
       "    </tr>\n",
       "  </thead>\n",
       "  <tbody>\n",
       "    <tr>\n",
       "      <th>0</th>\n",
       "      <td>myo4ixol31</td>\n",
       "      <td>1428</td>\n",
       "      <td>test</td>\n",
       "    </tr>\n",
       "    <tr>\n",
       "      <th>1</th>\n",
       "      <td>myo4ixol31</td>\n",
       "      <td>1428</td>\n",
       "      <td>test</td>\n",
       "    </tr>\n",
       "    <tr>\n",
       "      <th>2</th>\n",
       "      <td>myo4ixol31</td>\n",
       "      <td>1071</td>\n",
       "      <td>test</td>\n",
       "    </tr>\n",
       "    <tr>\n",
       "      <th>3</th>\n",
       "      <td>myo4ixol31</td>\n",
       "      <td>1071</td>\n",
       "      <td>test</td>\n",
       "    </tr>\n",
       "    <tr>\n",
       "      <th>4</th>\n",
       "      <td>pkzf2889ww</td>\n",
       "      <td>351</td>\n",
       "      <td>test</td>\n",
       "    </tr>\n",
       "  </tbody>\n",
       "</table>\n",
       "</div>"
      ],
      "text/plain": [
       "      user_id   gmv group_name\n",
       "0  myo4ixol31  1428       test\n",
       "1  myo4ixol31  1428       test\n",
       "2  myo4ixol31  1071       test\n",
       "3  myo4ixol31  1071       test\n",
       "4  pkzf2889ww   351       test"
      ]
     },
     "execution_count": 99,
     "metadata": {},
     "output_type": "execute_result"
    }
   ],
   "source": [
    "df.head()"
   ]
  },
  {
   "cell_type": "code",
   "execution_count": 100,
   "metadata": {},
   "outputs": [],
   "source": [
    "test = df[df['group_name'] == 'test']\n",
    "control = df[df['group_name'] == 'control']"
   ]
  },
  {
   "cell_type": "code",
   "execution_count": 101,
   "metadata": {},
   "outputs": [],
   "source": [
    "X_test = test.groupby('user_id')['gmv'].sum()\n",
    "X_control = control.groupby('user_id')['gmv'].sum()"
   ]
  },
  {
   "cell_type": "code",
   "execution_count": 102,
   "metadata": {},
   "outputs": [],
   "source": [
    "def delta_gmv_std(X: pd.Series, Y: pd.Series):\n",
    "    n = X.size\n",
    "    m = Y.size\n",
    "    var_X = X.var() / n\n",
    "    var_Y = Y.var() / m\n",
    "    return np.sqrt(var_X + var_Y)\n",
    "\n",
    "def delta_gmv(X: pd.Series, Y: pd.Series, alpha=0.05):\n",
    "    n = X.size\n",
    "    m = Y.size\n",
    "    z = stats.t.ppf(1-alpha/2, df=n+m-2)\n",
    "    delta = X.mean() - Y.mean()\n",
    "    delta_std = delta_gmv_std(X, Y)\n",
    "    left_bound = delta - z * delta_std\n",
    "    right_bound = delta + z * delta_std\n",
    "    return delta, left_bound, right_bound"
   ]
  },
  {
   "cell_type": "code",
   "execution_count": 103,
   "metadata": {},
   "outputs": [
    {
     "data": {
      "text/plain": [
       "(23.433367596802327, 3.975394614703312, 42.89134057890134)"
      ]
     },
     "execution_count": 103,
     "metadata": {},
     "output_type": "execute_result"
    }
   ],
   "source": [
    "delta, left_bound, right_bound = delta_gmv(X_test, X_control)\n",
    "delta, left_bound, right_bound"
   ]
  },
  {
   "cell_type": "code",
   "execution_count": 104,
   "metadata": {},
   "outputs": [
    {
     "data": {
      "text/plain": [
       "'[3.975 42.891]'"
      ]
     },
     "execution_count": 104,
     "metadata": {},
     "output_type": "execute_result"
    }
   ],
   "source": [
    "ans = f\"[{left_bound:.3f} {right_bound:.3f}]\"\n",
    "ans"
   ]
  },
  {
   "cell_type": "code",
   "execution_count": 105,
   "metadata": {},
   "outputs": [],
   "source": [
    "def delta_gmv_percent_var(X: pd.Series, Y: pd.Series):\n",
    "    n = X.size\n",
    "    m = Y.size\n",
    "    mu_X = X.mean()\n",
    "    mu_Y = Y.mean()\n",
    "    var_X = X.var() / n\n",
    "    var_Y = Y.var() / m\n",
    "    return var_X / mu_Y**2  + var_Y*mu_X**2 / mu_Y**4\n",
    "\n",
    "def delta_gmv_percent_std(X: pd.Series, Y: pd.Series):\n",
    "    var = delta_gmv_percent_var(X, Y)\n",
    "    return np.sqrt(var)\n",
    "\n",
    "def delta_gmv_percent(X: pd.Series, Y: pd.Series, alpha=0.05):\n",
    "    n = X.size\n",
    "    m = Y.size\n",
    "    z = stats.t.ppf(1-alpha/2, df=n+m-2)\n",
    "    delta_percent = 100 * (X.mean() - Y.mean()) / Y.mean()\n",
    "    delta_percent_std = delta_gmv_percent_std(X, Y)\n",
    "    left_bound = delta_percent - 100 * z * delta_percent_std\n",
    "    right_bound = delta_percent + 100 * z * delta_percent_std\n",
    "    return delta_percent, left_bound, right_bound"
   ]
  },
  {
   "cell_type": "code",
   "execution_count": 106,
   "metadata": {},
   "outputs": [
    {
     "data": {
      "text/plain": [
       "(0.823027103484432, 0.13823808422869943, 1.5078161227401645)"
      ]
     },
     "execution_count": 106,
     "metadata": {},
     "output_type": "execute_result"
    }
   ],
   "source": [
    "delta, left_bound, right_bound = delta_gmv_percent(X_test, X_control)\n",
    "delta, left_bound, right_bound"
   ]
  },
  {
   "cell_type": "code",
   "execution_count": 107,
   "metadata": {},
   "outputs": [
    {
     "data": {
      "text/plain": [
       "'[3.975 42.891][0.138 1.508]'"
      ]
     },
     "execution_count": 107,
     "metadata": {},
     "output_type": "execute_result"
    }
   ],
   "source": [
    "ans += f\"[{left_bound:.3f} {right_bound:.3f}]\"\n",
    "ans"
   ]
  },
  {
   "cell_type": "code",
   "execution_count": 108,
   "metadata": {},
   "outputs": [],
   "source": [
    "def ratio_aov_var(X: pd.Series, Y: pd.Series):\n",
    "    n = X.size\n",
    "    mu_X = X.mean()\n",
    "    mu_Y = Y.mean()\n",
    "    var_X = X.var() / n\n",
    "    var_Y = Y.var() / n\n",
    "    cov_X_Y = X.cov(Y) / n\n",
    "    est = mu_X / mu_Y\n",
    "    return (var_X-2*est * cov_X_Y + est ** 2 * var_Y) / mu_Y ** 2\n",
    "\n",
    "def ratio_aov_std(Xt: pd.Series, Yt: pd.Series, Xc: pd.Series, Yc: pd.Series):\n",
    "    var_t = ratio_aov_var(Xt, Yt)\n",
    "    var_c = ratio_aov_var(Xc, Yc)\n",
    "    return np.sqrt(var_c + var_t)\n",
    "\n",
    "def ratio_aov(X_t: pd.Series, Y_t: pd.Series, X_c: pd.Series, Y_c: pd.Series, alpha=0.05):\n",
    "    n = X_t.size\n",
    "    m = X_c.size\n",
    "    z = stats.t.ppf(1-alpha/2, df=n+m-2)\n",
    "    delta_std = ratio_aov_std(X_t,Y_t, X_c, Y_c)\n",
    "    delta = X_t.mean() / Y_t.mean() - X_c.mean() / Y_c.mean()\n",
    "    left_bound = delta - z * delta_std\n",
    "    right_bound = delta + z * delta_std\n",
    "    return delta, left_bound, right_bound"
   ]
  },
  {
   "cell_type": "code",
   "execution_count": 109,
   "metadata": {},
   "outputs": [],
   "source": [
    "Y_test = test['user_id'].value_counts()\n",
    "Y_control = control['user_id'].value_counts()"
   ]
  },
  {
   "cell_type": "code",
   "execution_count": 110,
   "metadata": {},
   "outputs": [
    {
     "data": {
      "text/plain": [
       "(3.9824757316729347, 0.6522778400921125, 7.312673623253756)"
      ]
     },
     "execution_count": 110,
     "metadata": {},
     "output_type": "execute_result"
    }
   ],
   "source": [
    "delta, left_bound, right_bound = ratio_aov(X_test, Y_test, X_control, Y_control)\n",
    "delta, left_bound, right_bound"
   ]
  },
  {
   "cell_type": "code",
   "execution_count": 111,
   "metadata": {},
   "outputs": [
    {
     "data": {
      "text/plain": [
       "'[3.975 42.891][0.138 1.508][0.652 7.313]'"
      ]
     },
     "execution_count": 111,
     "metadata": {},
     "output_type": "execute_result"
    }
   ],
   "source": [
    "ans += f\"[{left_bound:.3f} {right_bound:.3f}]\"\n",
    "ans"
   ]
  },
  {
   "cell_type": "code",
   "execution_count": 112,
   "metadata": {},
   "outputs": [],
   "source": [
    "def ratio_aov_percent_var(Xt: pd.Series, Yt: pd.Series, Xc: pd.Series, Yc: pd.Series):\n",
    "    mu_X_c = Xc.mean()\n",
    "    mu_Y_c = Yc.mean()\n",
    "    mu_X_t = Xt.mean()\n",
    "    mu_Y_t = Yt.mean()\n",
    "    Rc = mu_X_c / mu_Y_c\n",
    "    Rt = mu_X_t / mu_Y_t\n",
    "    var_t = ratio_aov_var(Xt,Yt)\n",
    "    var_c = ratio_aov_var(Xc,Yc)\n",
    "    return (var_t + var_c * (Rt/ Rc)**2) / Rc**2\n",
    "\n",
    "def ratio_aov_percent_std(Xt: pd.Series, Yt: pd.Series, Xc: pd.Series, Yc: pd.Series):\n",
    "    var = ratio_aov_percent_var(Xt, Yt, Xc, Yc)\n",
    "    return np.sqrt(var)\n",
    "\n",
    "def ratio_aov_percent(Xt: pd.Series, Yt: pd.Series, Xc: pd.Series, Yc: pd.Series, alpha=0.05):\n",
    "    n = Xt.size\n",
    "    m = Xc.size\n",
    "    z = stats.t.ppf(1-alpha/2, df=n+m-2)\n",
    "    mu_X_c = Xc.mean()\n",
    "    mu_Y_c = Yc.mean()\n",
    "    mu_X_t = Xt.mean()\n",
    "    mu_Y_t = Yt.mean()\n",
    "    Rc = mu_X_c / mu_Y_c\n",
    "    Rt = mu_X_t / mu_Y_t\n",
    "    delta_percent = 100 * (Rt - Rc) / Rc\n",
    "    delta_percent_std = ratio_aov_percent_std(Xt, Yt, Xc, Yc)\n",
    "    left_bound = delta_percent - 100 * z * delta_percent_std\n",
    "    right_bound = delta_percent + 100 * z * delta_percent_std\n",
    "    return delta_percent, left_bound, right_bound"
   ]
  },
  {
   "cell_type": "code",
   "execution_count": 113,
   "metadata": {},
   "outputs": [
    {
     "data": {
      "text/plain": [
       "(0.5687435358170613, 0.09248219188158485, 1.0450048797525378)"
      ]
     },
     "execution_count": 113,
     "metadata": {},
     "output_type": "execute_result"
    }
   ],
   "source": [
    "delta, left_bound, right_bound = ratio_aov_percent(X_test, Y_test, X_control, Y_control)\n",
    "delta, left_bound, right_bound"
   ]
  },
  {
   "cell_type": "code",
   "execution_count": 114,
   "metadata": {},
   "outputs": [
    {
     "data": {
      "text/plain": [
       "'[3.975 42.891][0.138 1.508][0.652 7.313][0.092 1.045]'"
      ]
     },
     "execution_count": 114,
     "metadata": {},
     "output_type": "execute_result"
    }
   ],
   "source": [
    "ans += f\"[{left_bound:.3f} {right_bound:.3f}]\"\n",
    "ans"
   ]
  },
  {
   "cell_type": "markdown",
   "metadata": {},
   "source": [
    "Ответ: `[3.975 42.891][0.138 1.508][0.652 7.313][0.092 1.045]`"
   ]
  }
 ],
 "metadata": {
  "kaggle": {
   "accelerator": "none",
   "dataSources": [
    {
     "databundleVersionId": 8997613,
     "sourceId": 82398,
     "sourceType": "competition"
    }
   ],
   "dockerImageVersionId": 30761,
   "isGpuEnabled": false,
   "isInternetEnabled": false,
   "language": "python",
   "sourceType": "notebook"
  },
  "kernelspec": {
   "display_name": "Python 3",
   "language": "python",
   "name": "python3"
  },
  "language_info": {
   "codemirror_mode": {
    "name": "ipython",
    "version": 3
   },
   "file_extension": ".py",
   "mimetype": "text/x-python",
   "name": "python",
   "nbconvert_exporter": "python",
   "pygments_lexer": "ipython3",
   "version": "3.12.10"
  }
 },
 "nbformat": 4,
 "nbformat_minor": 4
}
